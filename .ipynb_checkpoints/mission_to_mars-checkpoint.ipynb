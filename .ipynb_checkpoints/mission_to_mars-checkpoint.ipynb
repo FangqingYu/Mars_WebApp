{
 "cells": [
  {
   "cell_type": "code",
   "execution_count": 17,
   "metadata": {},
   "outputs": [],
   "source": [
    "from splinter import Browser\n",
    "from bs4 import BeautifulSoup as bs\n",
    "\n",
    "import pandas as pd"
   ]
  },
  {
   "cell_type": "code",
   "execution_count": 18,
   "metadata": {},
   "outputs": [],
   "source": [
    "# Execute Chromedriver \n",
    "executable_path = {'executable_path': 'chromedriver.exe'}\n",
    "browser = Browser('chrome', **executable_path, headless=False)"
   ]
  },
  {
   "cell_type": "code",
   "execution_count": 19,
   "metadata": {},
   "outputs": [],
   "source": [
    "# URL of headline page to be scraped\n",
    "url_1 = \"https://mars.nasa.gov/news/?page=0&per_page=40&order=publish_date+desc%2Ccreated_at+desc&search=&category=19%2C165%2C184%2C204&blank_scope=Latest\"\n",
    "# Browse headline URL\n",
    "browser.visit(url_1)\n",
    "\n",
    "# Assign web content (html) to variable \n",
    "html_1 =  browser.html\n",
    "# Create BeautifulSoup object\n",
    "soup_1 = bs(html_1, \"html.parser\")\n",
    "\n",
    "# Parse for headline\n",
    "news_title = soup_1.find_all('div', class_='content_title')[0].a.text\n",
    "# Parse for description\n",
    "descriptions =  soup_1.find_all('div', class_='rollover_description_inner')[0].text\n",
    "# Parse for news page url (contains featured image and link)\n",
    "partial_news_url = soup_1.find_all('div', class_='content_title')[0].a.get('href')\n",
    "news_url = \"https://mars.nasa.gov\" + partial_news_url\n",
    "\n",
    "\n",
    "# Scrap for featured image from news page\n",
    "# Browse news page URL\n",
    "browser.visit(news_url)\n",
    "\n",
    "# Assign web content (html) to variable\n",
    "html_news = browser.html\n",
    "# Create BeautifulSoup object\n",
    "soup_news = bs(html_news, \"html.parser\")\n",
    "\n",
    "# Parse for image\n",
    "image_url = \"https://mars.nasa.gov\" + soup_news.find('img', id='main_image')['src']\n"
   ]
  },
  {
   "cell_type": "code",
   "execution_count": 20,
   "metadata": {},
   "outputs": [
    {
     "name": "stdout",
     "output_type": "stream",
     "text": [
      "NASA's InSight Places First Instrument on Mars\n",
      "In deploying its first instrument onto the surface of Mars, the lander completes a major mission milestone.\n",
      "https://mars.nasa.gov/system/news_items/main_images/8402_PIA22977_SEIS_deploy_IDC_calibrated-web.gif\n"
     ]
    }
   ],
   "source": [
    "print(news_title)\n",
    "print(descriptions)\n",
    "print(image_url)"
   ]
  },
  {
   "cell_type": "code",
   "execution_count": 21,
   "metadata": {},
   "outputs": [],
   "source": [
    "# Execute Chromedriver \n",
    "executable_path = {'executable_path': 'chromedriver.exe'}\n",
    "browser = Browser('chrome', **executable_path, headless=False)\n",
    "\n",
    "# URL of page to be scraped\n",
    "url_weather = \"https://twitter.com/marswxreport?lang=en\"\n",
    "# Browse the page\n",
    "browser.visit(url_weather)\n",
    "\n",
    "# Convert web content to html\n",
    "html_weather = browser.html\n",
    "# Create Beautiful Soup Object\n",
    "soup_weather = bs(html_weather, \"html5lib\")\n",
    "\n",
    "# Parse for weather info\n",
    "mars_weather = soup_weather.find_all('p', class_=\"TweetTextSize TweetTextSize--normal js-tweet-text tweet-text\")[0].text\n"
   ]
  },
  {
   "cell_type": "code",
   "execution_count": 22,
   "metadata": {},
   "outputs": [
    {
     "data": {
      "text/plain": [
       "'Sol 2288 (2019-01-12), high -7C/19F, low -68C/-90F, pressure at 8.23 hPa, daylight 06:45-18:55pic.twitter.com/Or8q1l3tka'"
      ]
     },
     "execution_count": 22,
     "metadata": {},
     "output_type": "execute_result"
    }
   ],
   "source": [
    "mars_weather"
   ]
  },
  {
   "cell_type": "code",
   "execution_count": 23,
   "metadata": {},
   "outputs": [],
   "source": [
    "# URL of page to be scraped\n",
    "url_facts = \"https://space-facts.com/mars/\"\n",
    "\n",
    "# Parse for tables from page using pandas (result is DataFrame)\n",
    "mars_facts = pd.read_html(url_facts)[0]\n",
    "# Rename columns\n",
    "mars_facts.columns=[\" \", \"Value\"]\n",
    "# Convert reulting DataFrame to html\n",
    "mars_facts_html = mars_facts.to_html().replace('\\n', '')\n"
   ]
  },
  {
   "cell_type": "code",
   "execution_count": 24,
   "metadata": {
    "scrolled": false
   },
   "outputs": [
    {
     "data": {
      "text/plain": [
       "'<table border=\"1\" class=\"dataframe\">  <thead>    <tr style=\"text-align: right;\">      <th></th>      <th></th>      <th>Value</th>    </tr>  </thead>  <tbody>    <tr>      <th>0</th>      <td>Equatorial Diameter:</td>      <td>6,792 km</td>    </tr>    <tr>      <th>1</th>      <td>Polar Diameter:</td>      <td>6,752 km</td>    </tr>    <tr>      <th>2</th>      <td>Mass:</td>      <td>6.42 x 10^23 kg (10.7% Earth)</td>    </tr>    <tr>      <th>3</th>      <td>Moons:</td>      <td>2 (Phobos &amp; Deimos)</td>    </tr>    <tr>      <th>4</th>      <td>Orbit Distance:</td>      <td>227,943,824 km (1.52 AU)</td>    </tr>    <tr>      <th>5</th>      <td>Orbit Period:</td>      <td>687 days (1.9 years)</td>    </tr>    <tr>      <th>6</th>      <td>Surface Temperature:</td>      <td>-153 to 20 °C</td>    </tr>    <tr>      <th>7</th>      <td>First Record:</td>      <td>2nd millennium BC</td>    </tr>    <tr>      <th>8</th>      <td>Recorded By:</td>      <td>Egyptian astronomers</td>    </tr>  </tbody></table>'"
      ]
     },
     "execution_count": 24,
     "metadata": {},
     "output_type": "execute_result"
    }
   ],
   "source": [
    "mars_facts_html"
   ]
  },
  {
   "cell_type": "code",
   "execution_count": 25,
   "metadata": {},
   "outputs": [],
   "source": [
    "#  Mars hemisphere images URLs \n",
    "hemisphere_image_urls = [\n",
    "    {\"title\": \"Valles Marineris Hemisphere\", \"img_url\": \"https://mars.nasa.gov/system/resources/detail_files/6453_mars-globe-valles-marineris-enhanced-full2.jpg\"},\n",
    "    {\"title\": \"Cerberus Hemisphere\", \"img_url\": \"https://planetary.s3.amazonaws.com/assets/images/4-mars/2014/20140202_valles_marineris_enhanced_f840.jpg\"},\n",
    "    {\"title\": \"Schiaparelli Hemisphere\", \"img_url\": \"https://planetary.s3.amazonaws.com/assets/images/4-mars/2014/20140202_schiaparelli_enhanced_f840.jpg\"},\n",
    "    {\"title\": \"Syrtis Major Hemisphere\", \"img_url\": \"https://planetary.s3.amazonaws.com/assets/images/4-mars/2014/20140202_syrtis_major_enhanced_f840.jpg\"}\n",
    "    ]\n"
   ]
  },
  {
   "cell_type": "code",
   "execution_count": 26,
   "metadata": {},
   "outputs": [
    {
     "data": {
      "text/plain": [
       "'https://mars.nasa.gov/system/resources/detail_files/6453_mars-globe-valles-marineris-enhanced-full2.jpg'"
      ]
     },
     "execution_count": 26,
     "metadata": {},
     "output_type": "execute_result"
    }
   ],
   "source": [
    "hemisphere_image_urls[0][\"img_url\"]"
   ]
  },
  {
   "cell_type": "code",
   "execution_count": 27,
   "metadata": {},
   "outputs": [
    {
     "data": {
      "text/plain": [
       "'Valles Marineris Hemisphere'"
      ]
     },
     "execution_count": 27,
     "metadata": {},
     "output_type": "execute_result"
    }
   ],
   "source": [
    "hemisphere_image_urls[0][\"title\"]"
   ]
  },
  {
   "cell_type": "code",
   "execution_count": null,
   "metadata": {},
   "outputs": [],
   "source": []
  }
 ],
 "metadata": {
  "kernelspec": {
   "display_name": "Python 3",
   "language": "python",
   "name": "python3"
  },
  "language_info": {
   "codemirror_mode": {
    "name": "ipython",
    "version": 3
   },
   "file_extension": ".py",
   "mimetype": "text/x-python",
   "name": "python",
   "nbconvert_exporter": "python",
   "pygments_lexer": "ipython3",
   "version": "3.7.0"
  }
 },
 "nbformat": 4,
 "nbformat_minor": 2
}
